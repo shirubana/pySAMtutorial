{
 "cells": [
  {
   "cell_type": "code",
   "execution_count": 1,
   "id": "b428daac",
   "metadata": {},
   "outputs": [],
   "source": [
    "# Written for nrel-pysam 3.0.2\n",
    "import PySAM\n",
    "import PySAM.Pvsamv1 as PV\n",
    "import PySAM.Grid as Grid\n",
    "import PySAM.Utilityrate5 as UtilityRate\n",
    "import PySAM.Cashloan as Cashloan\n",
    "import pathlib\n",
    "import json\n",
    "import os\n",
    "import pandas as pd\n",
    "\n",
    "sam_input_folder = 'JSONS2'\n"
   ]
  },
  {
   "cell_type": "code",
   "execution_count": 2,
   "id": "e3257fd7",
   "metadata": {},
   "outputs": [
    {
     "name": "stdout",
     "output_type": "stream",
     "text": [
      "3.0.2\n"
     ]
    }
   ],
   "source": [
    "print(PySAM.__version__)"
   ]
  },
  {
   "cell_type": "code",
   "execution_count": 3,
   "id": "6a8b3959",
   "metadata": {},
   "outputs": [],
   "source": [
    "file_names = [\"pvsamv1\", \"grid\", \"utilityrate5\", \"cashloan\"]\n",
    "\n",
    "pv = PV.new()  # also tried PVWattsSingleOwner\n",
    "grid = Grid.from_existing(pv)\n",
    "so = Cashloan.from_existing(grid, 'FlatPlatePVCommercial')\n",
    "ur = UtilityRate.from_existing(pv)\n"
   ]
  },
  {
   "cell_type": "code",
   "execution_count": 4,
   "id": "f36cf60f",
   "metadata": {},
   "outputs": [
    {
     "name": "stdout",
     "output_type": "stream",
     "text": [
      "<Pvsamv1 object at 0x000002585C443570> use_spatial_albedos 0\n",
      "<Pvsamv1 object at 0x000002585C443570> albedo_spatial [[0.2, 0.2, 0.2, 0.2, 0.2, 0.2, 0.2, 0.2, 0.2, 0.2], [0.2, 0.2, 0.2, 0.2, 0.2, 0.2, 0.2, 0.2, 0.2, 0.2], [0.2, 0.2, 0.2, 0.2, 0.2, 0.2, 0.2, 0.2, 0.2, 0.2], [0.2, 0.2, 0.2, 0.2, 0.2, 0.2, 0.2, 0.2, 0.2, 0.2], [0.2, 0.2, 0.2, 0.2, 0.2, 0.2, 0.2, 0.2, 0.2, 0.2], [0.2, 0.2, 0.2, 0.2, 0.2, 0.2, 0.2, 0.2, 0.2, 0.2], [0.2, 0.2, 0.2, 0.2, 0.2, 0.2, 0.2, 0.2, 0.2, 0.2], [0.2, 0.2, 0.2, 0.2, 0.2, 0.2, 0.2, 0.2, 0.2, 0.2], [0.2, 0.2, 0.2, 0.2, 0.2, 0.2, 0.2, 0.2, 0.2, 0.2], [0.2, 0.2, 0.2, 0.2, 0.2, 0.2, 0.2, 0.2, 0.2, 0.2], [0.2, 0.2, 0.2, 0.2, 0.2, 0.2, 0.2, 0.2, 0.2, 0.2], [0.2, 0.2, 0.2, 0.2, 0.2, 0.2, 0.2, 0.2, 0.2, 0.2]]\n",
      "<Pvsamv1 object at 0x000002585C443570> calculate_rack_shading 0\n",
      "<Pvsamv1 object at 0x000002585C443570> calculate_bifacial_electrical_mismatch 1\n",
      "<Pvsamv1 object at 0x000002585C443570> subarray1_rear_soiling_loss 0\n",
      "<Pvsamv1 object at 0x000002585C443570> subarray1_rack_shading 0\n",
      "<Pvsamv1 object at 0x000002585C443570> subarray1_electrical_mismatch 0\n",
      "<Pvsamv1 object at 0x000002585C443570> subarray2_rear_soiling_loss 0\n",
      "<Pvsamv1 object at 0x000002585C443570> subarray2_rack_shading 0\n",
      "<Pvsamv1 object at 0x000002585C443570> subarray2_electrical_mismatch 0\n",
      "<Pvsamv1 object at 0x000002585C443570> subarray3_rear_soiling_loss 0\n",
      "<Pvsamv1 object at 0x000002585C443570> subarray3_rack_shading 0\n",
      "<Pvsamv1 object at 0x000002585C443570> subarray3_electrical_mismatch 0\n",
      "<Pvsamv1 object at 0x000002585C443570> subarray4_rear_soiling_loss 0\n",
      "<Pvsamv1 object at 0x000002585C443570> subarray4_rack_shading 0\n",
      "<Pvsamv1 object at 0x000002585C443570> subarray4_electrical_mismatch 0\n",
      "<Pvsamv1 object at 0x000002585C443570> om_production_escal 0\n",
      "<Cashloan object at 0x000002585C443B40> itc_fed_amount [0]\n",
      "<Cashloan object at 0x000002585C443B40> itc_sta_amount [0]\n",
      "<Cashloan object at 0x000002585C443B40> itc_fed_percent [30]\n",
      "<Cashloan object at 0x000002585C443B40> itc_fed_percent_maxvalue [1e+38]\n",
      "<Cashloan object at 0x000002585C443B40> itc_sta_percent [0]\n",
      "<Cashloan object at 0x000002585C443B40> itc_sta_percent_maxvalue [1e+38]\n",
      "<Cashloan object at 0x000002585C443B40> en_wave_batt 0\n"
     ]
    }
   ],
   "source": [
    "for count, module in enumerate([pv, grid, ur, so]):\n",
    "    filetitle= 'AgriPV_SAM_' + file_names[count] + \".json\"\n",
    "    with open(os.path.join(sam_input_folder,filetitle), 'r') as file:\n",
    "        data = json.load(file)\n",
    "        for k, v in data.items():\n",
    "            if k == 'number_inputs':\n",
    "                continue\n",
    "            try:\n",
    "                module.value(k, v)\n",
    "            except :\n",
    "                # there is an error is setting the value for ppa_escalation\n",
    "                print(module, k, v)"
   ]
  },
  {
   "cell_type": "markdown",
   "id": "a6cea702",
   "metadata": {},
   "source": [
    "##### Sanity checks"
   ]
  },
  {
   "cell_type": "code",
   "execution_count": 5,
   "id": "d64dc141",
   "metadata": {},
   "outputs": [
    {
     "data": {
      "text/plain": [
       "'C:/SAM/2022.11.21/solar_resource/phoenix_az_33.450495_-111.983688_psmv3_60_tmy.csv'"
      ]
     },
     "execution_count": 5,
     "metadata": {},
     "output_type": "execute_result"
    }
   ],
   "source": [
    "pv.SolarResource.solar_resource_file"
   ]
  },
  {
   "cell_type": "code",
   "execution_count": 6,
   "id": "726e276b",
   "metadata": {},
   "outputs": [],
   "source": [
    "weatherfile = str(pathlib.Path().resolve().parent / 'SolarResourceFiles' / 'WF_SAM_00.csv')"
   ]
  },
  {
   "cell_type": "code",
   "execution_count": 7,
   "id": "78f68cac",
   "metadata": {},
   "outputs": [
    {
     "data": {
      "text/plain": [
       "'C:/Users/sayala/Documents/GitHub/Studies/pySAMtutorial/SolarResourceFiles/WF_SAM_00.csv'"
      ]
     },
     "execution_count": 7,
     "metadata": {},
     "output_type": "execute_result"
    }
   ],
   "source": [
    "weatherfile = r'C:/Users/sayala/Documents/GitHub/Studies/pySAMtutorial/SolarResourceFiles/WF_SAM_00.csv'\n",
    "weatherfile"
   ]
  },
  {
   "cell_type": "code",
   "execution_count": 8,
   "id": "f4f29448",
   "metadata": {},
   "outputs": [],
   "source": [
    "pv.SolarResource.solar_resource_file = weatherfile"
   ]
  },
  {
   "cell_type": "code",
   "execution_count": 9,
   "id": "e6498f99",
   "metadata": {},
   "outputs": [
    {
     "data": {
      "text/plain": [
       "1.0"
      ]
     },
     "execution_count": 9,
     "metadata": {},
     "output_type": "execute_result"
    }
   ],
   "source": [
    "pv.SolarResource.use_wf_albedo"
   ]
  },
  {
   "cell_type": "code",
   "execution_count": 10,
   "id": "0413866c",
   "metadata": {},
   "outputs": [
    {
     "data": {
      "text/plain": [
       "0.0"
      ]
     },
     "execution_count": 10,
     "metadata": {},
     "output_type": "execute_result"
    }
   ],
   "source": [
    "pv.SolarResource.irrad_mode"
   ]
  },
  {
   "cell_type": "code",
   "execution_count": 11,
   "id": "a48ed242",
   "metadata": {},
   "outputs": [
    {
     "data": {
      "text/plain": [
       "(0.2, 0.2, 0.2, 0.2, 0.2, 0.2, 0.2, 0.2, 0.2, 0.2, 0.2, 0.2)"
      ]
     },
     "execution_count": 11,
     "metadata": {},
     "output_type": "execute_result"
    }
   ],
   "source": [
    "pv.SolarResource.albedo"
   ]
  },
  {
   "cell_type": "code",
   "execution_count": 12,
   "id": "3230998e",
   "metadata": {},
   "outputs": [
    {
     "ename": "Exception",
     "evalue": "pvsamv1 execution error.\n\tprecheck input: variable 'subarray1_rear_irradiance_loss' (Sub-array 1 rear irradiance loss) required but not assigned\n\n",
     "output_type": "error",
     "traceback": [
      "\u001b[1;31m---------------------------------------------------------------------------\u001b[0m",
      "\u001b[1;31mException\u001b[0m                                 Traceback (most recent call last)",
      "\u001b[1;32m~\\AppData\\Local\\Temp\\1\\ipykernel_15196\\3821650675.py\u001b[0m in \u001b[0;36m<module>\u001b[1;34m\u001b[0m\n\u001b[0;32m      1\u001b[0m \u001b[0mgrid\u001b[0m\u001b[1;33m.\u001b[0m\u001b[0mSystemOutput\u001b[0m\u001b[1;33m.\u001b[0m\u001b[0mgen\u001b[0m \u001b[1;33m=\u001b[0m \u001b[1;33m[\u001b[0m\u001b[1;36m0\u001b[0m\u001b[1;33m]\u001b[0m \u001b[1;33m*\u001b[0m \u001b[1;36m8760\u001b[0m  \u001b[1;31m# p_out   # let's set all the values to 0\u001b[0m\u001b[1;33m\u001b[0m\u001b[1;33m\u001b[0m\u001b[0m\n\u001b[1;32m----> 2\u001b[1;33m \u001b[0mpv\u001b[0m\u001b[1;33m.\u001b[0m\u001b[0mexecute\u001b[0m\u001b[1;33m(\u001b[0m\u001b[1;33m)\u001b[0m\u001b[1;33m\u001b[0m\u001b[1;33m\u001b[0m\u001b[0m\n\u001b[0m\u001b[0;32m      3\u001b[0m \u001b[0mgrid\u001b[0m\u001b[1;33m.\u001b[0m\u001b[0mexecute\u001b[0m\u001b[1;33m(\u001b[0m\u001b[1;33m)\u001b[0m\u001b[1;33m\u001b[0m\u001b[1;33m\u001b[0m\u001b[0m\n\u001b[0;32m      4\u001b[0m \u001b[0mur\u001b[0m\u001b[1;33m.\u001b[0m\u001b[0mexecute\u001b[0m\u001b[1;33m(\u001b[0m\u001b[1;33m)\u001b[0m\u001b[1;33m\u001b[0m\u001b[1;33m\u001b[0m\u001b[0m\n\u001b[0;32m      5\u001b[0m \u001b[0mso\u001b[0m\u001b[1;33m.\u001b[0m\u001b[0mexecute\u001b[0m\u001b[1;33m(\u001b[0m\u001b[1;33m)\u001b[0m\u001b[1;33m\u001b[0m\u001b[1;33m\u001b[0m\u001b[0m\n",
      "\u001b[1;31mException\u001b[0m: pvsamv1 execution error.\n\tprecheck input: variable 'subarray1_rear_irradiance_loss' (Sub-array 1 rear irradiance loss) required but not assigned\n\n"
     ]
    }
   ],
   "source": [
    "grid.SystemOutput.gen = [0] * 8760  # p_out   # let's set all the values to 0\n",
    "pv.execute()\n",
    "grid.execute()\n",
    "ur.execute()\n",
    "so.execute()"
   ]
  },
  {
   "cell_type": "code",
   "execution_count": null,
   "id": "2e7fe944",
   "metadata": {},
   "outputs": [],
   "source": [
    "#system_capacity = #Normalization"
   ]
  },
  {
   "cell_type": "code",
   "execution_count": 18,
   "id": "2e45b400",
   "metadata": {},
   "outputs": [],
   "source": [
    "results = pv.Outputs.export()\n",
    "\n",
    "#Sanity checks\n",
    "dni = list(results['dn'])\n",
    "dhi = list(results['df'])\n",
    "alb = list(results['alb'])\n",
    "\n",
    "#\n",
    "power = list(results['subarray1_dc_gross'])\n",
    "celltemp = list(results['subarray1_celltemp'])\n",
    "poa= list(results['subarray1_poa_eff'])\n",
    "rear = list(results['subarray1_poa_rear'])"
   ]
  },
  {
   "cell_type": "markdown",
   "id": "0e381b0f",
   "metadata": {},
   "source": [
    "## Explore output variables:"
   ]
  },
  {
   "cell_type": "code",
   "execution_count": 22,
   "id": "f8e52b19",
   "metadata": {},
   "outputs": [],
   "source": [
    "import pprint"
   ]
  },
  {
   "cell_type": "code",
   "execution_count": 23,
   "id": "4d8f2af4",
   "metadata": {},
   "outputs": [
    {
     "name": "stdout",
     "output_type": "stream",
     "text": [
      "dict_keys(['ac_gross', 'ac_lifetime_loss', 'ac_perf_adj_loss', 'ac_transmission_loss', 'ac_wiring_loss', 'airmass', 'alb', 'annual_ac_gross', 'annual_ac_inv_clip_loss_percent', 'annual_ac_inv_eff_loss_percent', 'annual_ac_inv_pnt_loss_percent', 'annual_ac_inv_pso_loss_percent', 'annual_ac_lifetime_loss_percent', 'annual_ac_loss_ond', 'annual_ac_perf_adj_loss_percent', 'annual_ac_wiring_loss', 'annual_ac_wiring_loss_percent', 'annual_bifacial_electrical_mismatch', 'annual_bifacial_electrical_mismatch_percent', 'annual_dc_diodes_loss', 'annual_dc_diodes_loss_percent', 'annual_dc_gross', 'annual_dc_inv_tdc_loss_percent', 'annual_dc_invmppt_loss', 'annual_dc_lifetime_loss_percent', 'annual_dc_loss_ond', 'annual_dc_mismatch_loss', 'annual_dc_mismatch_loss_percent', 'annual_dc_module_loss_percent', 'annual_dc_mppt_clip_loss_percent', 'annual_dc_nameplate_loss', 'annual_dc_nameplate_loss_percent', 'annual_dc_net', 'annual_dc_nominal', 'annual_dc_optimizer_loss', 'annual_dc_optimizer_loss_percent', 'annual_dc_perf_adj_loss_percent', 'annual_dc_snow_loss_percent', 'annual_dc_tracking_loss', 'annual_dc_tracking_loss_percent', 'annual_dc_wiring_loss', 'annual_dc_wiring_loss_percent', 'annual_energy', 'annual_energy_distribution_time', 'annual_gh', 'annual_ground_absorbed', 'annual_ground_absorbed_percent', 'annual_ground_incident', 'annual_ground_incident_percent', 'annual_inv_cliploss', 'annual_inv_pntloss', 'annual_inv_psoloss', 'annual_inv_tdcloss', 'annual_poa_beam_eff', 'annual_poa_beam_nom', 'annual_poa_cover_loss_percent', 'annual_poa_eff', 'annual_poa_front', 'annual_poa_nom', 'annual_poa_rear_direct_diffuse', 'annual_poa_rear_ground_reflected', 'annual_poa_rear_rack_shaded', 'annual_poa_rear_row_reflections', 'annual_poa_rear_self_shaded', 'annual_poa_rear_soiled', 'annual_poa_shaded', 'annual_poa_shaded_soiled', 'annual_poa_shading_loss_percent', 'annual_poa_soiling_loss_percent', 'annual_rack_shaded_percent', 'annual_rear_direct_diffuse_percent', 'annual_rear_ground_reflected_percent', 'annual_rear_row_reflections_percent', 'annual_rear_self_shaded_percent', 'annual_rear_soiled_percent', 'annual_subarray1_dc_diodes_loss', 'annual_subarray1_dc_gross', 'annual_subarray1_dc_mismatch_loss', 'annual_subarray1_dc_nameplate_loss', 'annual_subarray1_dc_tracking_loss', 'annual_subarray1_dc_wiring_loss', 'annual_total_loss_percent', 'annual_transmission_loss', 'annual_transmission_loss_percent', 'annual_xfmr_loss_percent', 'bifacial_electrical_mismatch', 'capacity_factor', 'capacity_factor_ac', 'dc_degrade_factor', 'dc_invmppt_loss', 'dc_lifetime_loss', 'dc_net', 'dc_snow_loss', 'df', 'dn', 'elev', 'gen', 'gh', 'gh_calc', 'ground_absorbed', 'ground_incident', 'inv_cliploss', 'inv_eff', 'inv_pntloss', 'inv_psoloss', 'inv_tdcloss', 'inv_total_loss', 'inverterMPPT1_DCVoltage', 'kwh_per_kw', 'lat', 'lon', 'monthly_dc', 'monthly_energy', 'monthly_poa_beam_eff', 'monthly_poa_beam_nom', 'monthly_poa_eff', 'monthly_poa_front', 'monthly_poa_nom', 'monthly_poa_rear', 'nameplate_dc_rating', 'performance_ratio', 'poa_beam_eff', 'poa_beam_nom', 'poa_eff', 'poa_front', 'poa_nom', 'poa_rear', 'poa_rear_direct_diffuse', 'poa_rear_ground_reflected', 'poa_rear_rack_shaded', 'poa_rear_row_reflections', 'poa_rear_self_shaded', 'poa_rear_soiled', 'poa_shaded', 'poa_shaded_soiled', 'shadedb_subarray1_shade_frac', 'sixpar_Adj', 'sixpar_Il', 'sixpar_Io', 'sixpar_Rs', 'sixpar_Rsh', 'sixpar_a', 'snowdepth', 'sol_alt', 'sol_azi', 'sol_zen', 'subarray1_aoi', 'subarray1_aoi_modifier', 'subarray1_axisrot', 'subarray1_beam_shading_factor', 'subarray1_celltemp', 'subarray1_celltempSS', 'subarray1_dc_gross', 'subarray1_dc_voltage', 'subarray1_dcloss', 'subarray1_ground_rear_spatial', 'subarray1_idealrot', 'subarray1_isc', 'subarray1_linear_derate', 'subarray1_modeff', 'subarray1_poa_eff', 'subarray1_poa_eff_beam', 'subarray1_poa_eff_diff', 'subarray1_poa_front', 'subarray1_poa_nom', 'subarray1_poa_rear', 'subarray1_poa_rear_spatial', 'subarray1_poa_shaded', 'subarray1_poa_shaded_soiled', 'subarray1_soiling_derate', 'subarray1_ss_derate', 'subarray1_ss_diffuse_derate', 'subarray1_ss_reflected_derate', 'subarray1_surf_azi', 'subarray1_surf_tilt', 'subarray1_voc', 'sunpos_hour', 'sunup', 'tdry', 'ts_shift_hours', 'tz', 'wspd', 'xfmr_ll_ts', 'xfmr_ll_year1', 'xfmr_loss_ts', 'xfmr_loss_year1', 'xfmr_nll_ts', 'xfmr_nll_year1'])\n"
     ]
    }
   ],
   "source": [
    "results.keys()"
   ]
  },
  {
   "cell_type": "markdown",
   "id": "f4a8225c",
   "metadata": {},
   "source": [
    "# Variables to explore SAM models\n",
    "\n",
    "* sky_model = 0 for Isotropic, 1 for HDKR, 2 for Perez\n",
    "* irrad_mod = 0 DNI + GHI, 1 DNI + GHI, 2 GHI + DHI, 3 POA Ref cell, 4 POA pyr\n",
    "\n",
    "use_wf_albedo\n",
    "use_spatial_albedos"
   ]
  }
 ],
 "metadata": {
  "kernelspec": {
   "display_name": "pySAM",
   "language": "python",
   "name": "pysam"
  },
  "language_info": {
   "codemirror_mode": {
    "name": "ipython",
    "version": 3
   },
   "file_extension": ".py",
   "mimetype": "text/x-python",
   "name": "python",
   "nbconvert_exporter": "python",
   "pygments_lexer": "ipython3",
   "version": "3.9.13"
  }
 },
 "nbformat": 4,
 "nbformat_minor": 5
}
