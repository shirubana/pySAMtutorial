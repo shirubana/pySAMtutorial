{
 "cells": [
  {
   "cell_type": "markdown",
   "id": "d17f0282",
   "metadata": {},
   "source": [
    "# 4 - Passing POA through pySAM\n",
    "\n",
    "\n",
    "Needs a weatherfile with a \"POA\" column input; do not include DNI DHI or GHI on the weatherfile."
   ]
  },
  {
   "cell_type": "code",
   "execution_count": 1,
   "id": "b428daac",
   "metadata": {},
   "outputs": [],
   "source": [
    "import PySAM.Pvsamv1 as PV\n",
    "import PySAM.Grid as Grid\n",
    "import PySAM.Utilityrate5 as UtilityRate\n",
    "import PySAM.Cashloan as Cashloan\n",
    "import pathlib\n",
    "import json\n",
    "import os\n"
   ]
  },
  {
   "cell_type": "code",
   "execution_count": 2,
   "id": "24affbfa",
   "metadata": {},
   "outputs": [
    {
     "name": "stdout",
     "output_type": "stream",
     "text": [
      "Pvlib version:  0.10.4.dev9+ge92ee94\n",
      "PySAM version:  5.1.0\n"
     ]
    }
   ],
   "source": [
    "import PySAM\n",
    "import pvlib\n",
    "print(\"Pvlib version: \", pvlib.__version__)\n",
    "print(\"PySAM version: \", PySAM.__version__)"
   ]
  },
  {
   "cell_type": "code",
   "execution_count": 3,
   "id": "6a8b3959",
   "metadata": {},
   "outputs": [],
   "source": [
    "sif4 = 'Row4Json'\n",
    "jsonnames = ['Row4PrismBifi']\n",
    "\n",
    "file_names = [\"pvsamv1\", \"grid\", \"utilityrate5\", \"cashloan\"]\n",
    "\n",
    "pv4 = PV.new()  # also tried PVWattsSingleOwner\n",
    "grid4 = Grid.from_existing(pv4)\n",
    "ur4 = UtilityRate.from_existing(pv4)\n",
    "so4 = Cashloan.from_existing(grid4, 'FlatPlatePVCommercial')\n"
   ]
  },
  {
   "cell_type": "code",
   "execution_count": 4,
   "id": "5c8bdc8b",
   "metadata": {},
   "outputs": [
    {
     "name": "stdout",
     "output_type": "stream",
     "text": [
      "<Pvsamv1 object at 0x00000147A4C8B8D0> adjust_constant 0\n",
      "<Pvsamv1 object at 0x00000147A4C8B8D0> adjust_en_timeindex 0\n",
      "<Pvsamv1 object at 0x00000147A4C8B8D0> adjust_en_periods 0\n",
      "<Pvsamv1 object at 0x00000147A4C8B8D0> adjust_timeindex [0]\n",
      "<Pvsamv1 object at 0x00000147A4C8B8D0> adjust_periods [[0, 0, 0]]\n",
      "<Pvsamv1 object at 0x00000147A4C8B8D0> dc_adjust_constant 0\n",
      "<Pvsamv1 object at 0x00000147A4C8B8D0> dc_adjust_en_timeindex 0\n",
      "<Pvsamv1 object at 0x00000147A4C8B8D0> dc_adjust_en_periods 0\n",
      "<Pvsamv1 object at 0x00000147A4C8B8D0> dc_adjust_timeindex [0]\n",
      "<Pvsamv1 object at 0x00000147A4C8B8D0> dc_adjust_periods [[0, 0, 0]]\n"
     ]
    }
   ],
   "source": [
    "for count, module in enumerate([pv4, grid4, ur4, so4]):\n",
    "    filetitle= 'Row4LongiBifi' + '_' + file_names[count] + \".json\"\n",
    "    with open(os.path.join(sif4,filetitle), 'r') as file:\n",
    "        data = json.load(file)\n",
    "        for k, v in data.items():\n",
    "            if k == 'number_inputs':\n",
    "                continue\n",
    "            try:\n",
    "                module.value(k, v)\n",
    "            except AttributeError:\n",
    "                # there is an error is setting the value for ppa_escalation\n",
    "                print(module, k, v)"
   ]
  },
  {
   "cell_type": "markdown",
   "id": "a6cea702",
   "metadata": {},
   "source": [
    "##### Sanity checks"
   ]
  },
  {
   "cell_type": "code",
   "execution_count": 5,
   "id": "d64dc141",
   "metadata": {},
   "outputs": [
    {
     "data": {
      "text/plain": [
       "(0.20000000298023224,\n",
       " 0.20000000298023224,\n",
       " 0.20000000298023224,\n",
       " 0.20000000298023224,\n",
       " 0.20000000298023224,\n",
       " 0.20000000298023224,\n",
       " 0.20000000298023224,\n",
       " 0.20000000298023224,\n",
       " 0.20000000298023224,\n",
       " 0.20000000298023224,\n",
       " 0.20000000298023224,\n",
       " 0.20000000298023224)"
      ]
     },
     "execution_count": 5,
     "metadata": {},
     "output_type": "execute_result"
    }
   ],
   "source": [
    "pv4.SolarResource.solar_resource_file\n",
    "pv4.SolarResource.use_wf_albedo\n",
    "pv4.SolarResource.irrad_mode\n",
    "pv4.SolarResource.albedo"
   ]
  },
  {
   "cell_type": "markdown",
   "id": "9e2bdc3d",
   "metadata": {},
   "source": [
    "# LOOP THROUGH COMBOS"
   ]
  },
  {
   "cell_type": "code",
   "execution_count": 6,
   "id": "a8cbe0ea",
   "metadata": {},
   "outputs": [],
   "source": [
    "import pandas as pd"
   ]
  },
  {
   "cell_type": "code",
   "execution_count": 7,
   "id": "76667209",
   "metadata": {},
   "outputs": [],
   "source": [
    "# 4-Bifi: LONGi Green Energy Technology Co._Ltd. LR6-72PH-370M"
   ]
  },
  {
   "cell_type": "code",
   "execution_count": 8,
   "id": "16d61d45",
   "metadata": {},
   "outputs": [],
   "source": [
    "# For unknown reasons, pySAM does not calculate this number and you have to obtain it from the GUI.\n",
    "system_capacity4 = 73.982   "
   ]
  },
  {
   "cell_type": "code",
   "execution_count": 9,
   "id": "7b89988b",
   "metadata": {},
   "outputs": [],
   "source": [
    "ResultsFolder = r'Results'"
   ]
  },
  {
   "cell_type": "code",
   "execution_count": 10,
   "id": "e7754857",
   "metadata": {},
   "outputs": [],
   "source": [
    "sims = ['WF_SAM_P00.csv'] # Weather file with \"POA\" column input."
   ]
  },
  {
   "cell_type": "code",
   "execution_count": 13,
   "id": "7118ab79",
   "metadata": {},
   "outputs": [
    {
     "name": "stdout",
     "output_type": "stream",
     "text": [
      "***** \n",
      " ** Sim 0\n"
     ]
    }
   ],
   "source": [
    "dfAll = pd.DataFrame()\n",
    "\n",
    "for ii in range(0, len(sims)): # # loop here over all the weather files or sims.\n",
    "    print(\"***** \\n** Sim\", ii)\n",
    "\n",
    "    weatherfile = sims[ii]\n",
    "    savefilevar = os.path.join(ResultsFolder,'Results_pySAM_'+sims[ii]+'.csv')\n",
    "\n",
    "    wftimestamp = pd.read_csv(weatherfile, skiprows=2)\n",
    "    datelist = list(pd.to_datetime(wftimestamp.iloc[:,0:4]))\n",
    "    months = list(wftimestamp.iloc[:,1])\n",
    "    years = list(wftimestamp.iloc[:,0])\n",
    "    days = list(wftimestamp.iloc[:,2])\n",
    "    hours = list(wftimestamp.iloc[:,3])\n",
    "    minutes = list(wftimestamp.iloc[:,4])\n",
    "    \n",
    "    pv4.SolarResource.solar_resource_file = weatherfile\n",
    "    \n",
    "    pv4.SolarResource.irrad_mode = 3 # [0/1/2/3/4] Beam+Diff,Global+Beam, Global+Diff, POA Ref cell, POA Pyranometer\n",
    "    pv4.SolarResource.sky_model= 2 #  [0/1/2] Isotropic,HDKR,Perez\n",
    "\n",
    "    # So that irrad_mod for POA works shading has to be inactivated.\n",
    "    if pv4.SolarResource.irrad_mode >= 3:\n",
    "        pv4.Shading.subarray1_shade_mode = 0\n",
    "    else:\n",
    "        pv4.Shading.subarray1_shade_mode = 1.0\n",
    "\n",
    "\n",
    "    grid4.SystemOutput.gen = [0] * len(datelist)  # p_out   # let's set all the values to 0\n",
    "    pv4.execute()\n",
    "    grid4.execute()\n",
    "    ur4.execute()\n",
    "    so4.execute()\n",
    "\n",
    "    # SAVE RESULTS|\n",
    "    results = pv4.Outputs.export()\n",
    "    power4 = list(results['subarray1_dc_gross']) # normalizing by the system_capacity\n",
    "    celltemp4 = list(results['subarray1_celltemp'])\n",
    "    rear4 = list(results['subarray1_poa_rear'])\n",
    "    front4 = list(results['subarray1_poa_front'])\n",
    "\n",
    "    dni = list(results['dn'])\n",
    "    dhi = list(results['df'])\n",
    "    alb = list(results['alb'])\n",
    "    \n",
    "    simtyp = [ii] * len(datelist)\n",
    "\n",
    "    res = pd.DataFrame(list(zip(simtyp, power4, celltemp4, rear4, front4,\n",
    "                              dni, dhi, alb)),\n",
    "           columns = ['Sim', 'Power4' , 'CellTemp4', 'Rear4', 'Front4',\n",
    "                     'DNI', 'DHI', 'Alb'])\n",
    "\n",
    "    res = res[0:len(datelist)]\n",
    "    res['index'] = res.index\n",
    "    res['Power4']= res['Power4']/system_capacity4 # normalizing by the system_capacity\n",
    "    res['datetimes'] = datelist\n",
    "    res['Year'] = years\n",
    "    res['Month'] = months\n",
    "    res['Hour'] = hours\n",
    "    res['Minutes'] = minutes\n",
    "    #    res.index = timestamps\n",
    "    res.to_pickle('Sim_'+str(ii)+'.pkl')\n",
    "    res.to_csv(savefilevar, float_format='%g')\n",
    "    dfAll = pd.concat([dfAll, res], ignore_index=True, axis=0)\n"
   ]
  },
  {
   "cell_type": "code",
   "execution_count": 14,
   "id": "7de4db25",
   "metadata": {},
   "outputs": [],
   "source": [
    "dfAll.to_pickle('Results_pysam.pkl')\n"
   ]
  }
 ],
 "metadata": {
  "kernelspec": {
   "display_name": "Python 3 (ipykernel)",
   "language": "python",
   "name": "python3"
  },
  "language_info": {
   "codemirror_mode": {
    "name": "ipython",
    "version": 3
   },
   "file_extension": ".py",
   "mimetype": "text/x-python",
   "name": "python",
   "nbconvert_exporter": "python",
   "pygments_lexer": "ipython3",
   "version": "3.11.4"
  }
 },
 "nbformat": 4,
 "nbformat_minor": 5
}
